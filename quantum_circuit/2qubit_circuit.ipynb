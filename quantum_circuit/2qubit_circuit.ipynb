{
 "cells": [
  {
   "cell_type": "code",
   "execution_count": 2,
   "id": "9e253641",
   "metadata": {},
   "outputs": [],
   "source": [
    "from qiskit import QuantumCircuit\n",
    "import numpy as np"
   ]
  },
  {
   "cell_type": "markdown",
   "id": "e0e5ad29",
   "metadata": {},
   "source": [
    "Due to the unitarity of quantum transformations, quantum computation is always reversible. Draw a 2-qubit quantum circuit that does the following:\n",
    "\n",
    "1. Applies a Hadamard gate to the upper qubit.\n",
    "2. Applies an X gate to the lower qubit.\n",
    "3. Applies the inverse of the T gate to the lower qubit.\n",
    "4. Applies a CX gate with the lower qubit being the control qubit and the upper qubit being the target qubit.\n",
    "5. Applies the P gate with angle −π/3 to the upper qubit.\n",
    "6. Reverses the operations in steps 1-5.\n",
    "\n",
    "Assume that each qubit is initialized to the state |0⟩. After completing steps 1-6, your system should return to the state |00⟩"
   ]
  },
  {
   "cell_type": "code",
   "execution_count": 3,
   "id": "f35b4e2c",
   "metadata": {},
   "outputs": [
    {
     "name": "stdout",
     "output_type": "stream",
     "text": [
      "     ┌───┐       ┌───┐┌─────────┐\n",
      "q_0: ┤ H ├───────┤ X ├┤ P(-π/3) ├\n",
      "     ├───┤┌─────┐└─┬─┘└─────────┘\n",
      "q_1: ┤ X ├┤ Tdg ├──■─────────────\n",
      "     └───┘└─────┘                \n"
     ]
    }
   ],
   "source": [
    "qc = QuantumCircuit(2)\n",
    "qc.h(0)\n",
    "qc.x(1)\n",
    "qc.tdg(1)\n",
    "qc.cx(1, 0)\n",
    "qc.p(-np.pi / 3, 0)\n",
    "print(qc.draw('text'))"
   ]
  },
  {
   "cell_type": "code",
   "execution_count": 4,
   "id": "f35b5949",
   "metadata": {},
   "outputs": [
    {
     "name": "stdout",
     "output_type": "stream",
     "text": [
      "     ┌───┐       ┌───┐┌─────────┐ U | U† ┌────────┐┌───┐┌───┐     \n",
      "q_0: ┤ H ├───────┤ X ├┤ P(-π/3) ├───░────┤ P(π/3) ├┤ X ├┤ H ├─────\n",
      "     ├───┤┌─────┐└─┬─┘└─────────┘   ░    └────────┘└─┬─┘├───┤┌───┐\n",
      "q_1: ┤ X ├┤ Tdg ├──■────────────────░────────────────■──┤ T ├┤ X ├\n",
      "     └───┘└─────┘                   ░                   └───┘└───┘\n"
     ]
    }
   ],
   "source": [
    "qc.barrier(label=\"U | U†\")\n",
    "qc.p(np.pi / 3, 0)\n",
    "qc.cx(1, 0)\n",
    "qc.t(1)\n",
    "qc.x(1)\n",
    "qc.h(0)\n",
    "print(qc.draw('text'))"
   ]
  },
  {
   "cell_type": "code",
   "execution_count": 5,
   "id": "dde0da10",
   "metadata": {},
   "outputs": [],
   "source": [
    "from qiskit_aer import AerSimulator\n",
    "\n",
    "statevector_simulator = AerSimulator(method='statevector')\n",
    "sim_qc = qc.copy()\n",
    "sim_qc.save_statevector()\n",
    "job_statevector = statevector_simulator.run(sim_qc)\n",
    "result_statevector = job_statevector.result()"
   ]
  },
  {
   "cell_type": "code",
   "execution_count": 6,
   "id": "32ead5f6",
   "metadata": {},
   "outputs": [
    {
     "name": "stdout",
     "output_type": "stream",
     "text": [
      "Statevector([1.-0.j, 0.+0.j, 0.+0.j, 0.+0.j],\n",
      "            dims=(2, 2))\n",
      "Verification Successful: Final state is |00>\n"
     ]
    }
   ],
   "source": [
    "output_state = result_statevector.get_statevector(sim_qc, decimals=3)\n",
    "print(output_state)\n",
    "if np.allclose(output_state.data, [1, 0, 0, 0]):\n",
    "    print(\"Verification Successful: Final state is |00>\")\n",
    "else:\n",
    "    print(\"Verification Failed: Final state is NOT |00>\")"
   ]
  },
  {
   "cell_type": "code",
   "execution_count": 7,
   "id": "739c4d37",
   "metadata": {},
   "outputs": [
    {
     "data": {
      "image/png": "[encoded data removed]",
      "text/plain": [
       "<Figure size 956.183x200.667 with 1 Axes>"
      ]
     },
     "metadata": {},
     "output_type": "display_data"
    }
   ],
   "source": [
    "display(qc.draw('mpl')) "
   ]
  }
 ],
 "metadata": {
  "kernelspec": {
   "display_name": ".venv",
   "language": "python",
   "name": "python3"
  },
  "language_info": {
   "codemirror_mode": {
    "name": "ipython",
    "version": 3
   },
   "file_extension": ".py",
   "mimetype": "text/x-python",
   "name": "python",
   "nbconvert_exporter": "python",
   "pygments_lexer": "ipython3",
   "version": "3.10.9"
  }
 },
 "nbformat": 4,
 "nbformat_minor": 5
}
