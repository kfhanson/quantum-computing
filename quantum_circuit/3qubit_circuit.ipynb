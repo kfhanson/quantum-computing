{
 "cells": [
  {
   "cell_type": "code",
   "execution_count": 2,
   "id": "29f78a2a",
   "metadata": {},
   "outputs": [],
   "source": [
    "import numpy as np\n",
    "from qiskit import QuantumCircuit\n",
    "from qiskit_aer import AerSimulator"
   ]
  },
  {
   "cell_type": "code",
   "execution_count": 28,
   "id": "efe49e18",
   "metadata": {},
   "outputs": [
    {
     "data": {
      "text/html": [
       "<pre style=\"word-wrap: normal;white-space: pre;background: #fff0;line-height: 1.1;font-family: &quot;Courier New&quot;,Courier,monospace\">     ┌───┐┌───┐              \n",
       "q_0: ┤ H ├┤ Z ├─────■──────X─\n",
       "     ├───┤└───┘     │      │ \n",
       "q_1: ┤ X ├──────────┼──────┼─\n",
       "     └───┘     ┌────┴────┐ │ \n",
       "q_2: ──────────┤ Rz(π/4) ├─X─\n",
       "               └─────────┘   </pre>"
      ],
      "text/plain": [
       "     ┌───┐┌───┐              \n",
       "q_0: ┤ H ├┤ Z ├─────■──────X─\n",
       "     ├───┤└───┘     │      │ \n",
       "q_1: ┤ X ├──────────┼──────┼─\n",
       "     └───┘     ┌────┴────┐ │ \n",
       "q_2: ──────────┤ Rz(π/4) ├─X─\n",
       "               └─────────┘   "
      ]
     },
     "execution_count": 28,
     "metadata": {},
     "output_type": "execute_result"
    }
   ],
   "source": [
    "qc = QuantumCircuit(3)\n",
    "qc.h(0)\n",
    "qc.x(1)\n",
    "qc.z(0)\n",
    "qc.crz(np.pi/4, 0, 2)\n",
    "qc.swap(0, 2)\n",
    "qc.draw('text')"
   ]
  },
  {
   "cell_type": "code",
   "execution_count": 29,
   "id": "e45c1eef",
   "metadata": {},
   "outputs": [
    {
     "name": "stdout",
     "output_type": "stream",
     "text": [
      "[ 0.     +0.j      0.     +0.j      0.70711+0.j      0.     +0.j\n",
      "  0.     +0.j     -0.     +0.j     -0.65328+0.2706j -0.     +0.j    ]\n"
     ]
    }
   ],
   "source": [
    "sim_qc = qc.copy()\n",
    "sim_qc.save_statevector()\n",
    "simulator = AerSimulator(method='statevector')\n",
    "job = simulator.run(sim_qc)\n",
    "result = job.result()\n",
    "statevector = result.get_statevector(sim_qc)\n",
    "print(np.around(statevector.data, decimals=5))"
   ]
  },
  {
   "cell_type": "code",
   "execution_count": 30,
   "id": "da5b977b",
   "metadata": {},
   "outputs": [
    {
     "name": "stdout",
     "output_type": "stream",
     "text": [
      "\n",
      "Final Statevector (Approximate Real Values):\n",
      "[ 0.0000, 0.0000, 0.7071, 0.0000, 0.0000, -0.0000, -0.6533, -0.0000 ]\n"
     ]
    }
   ],
   "source": [
    "print(\"\\nFinal Statevector (Approximate Real Values):\")\n",
    "print(f\"[ {statevector.data[0].real:.4f}, {statevector.data[1].real:.4f},\",\n",
    "      f\"{statevector.data[2].real:.4f}, {statevector.data[3].real:.4f},\",\n",
    "      f\"{statevector.data[4].real:.4f}, {statevector.data[5].real:.4f},\",\n",
    "      f\"{statevector.data[6].real:.4f}, {statevector.data[7].real:.4f} ]\")"
   ]
  },
  {
   "cell_type": "code",
   "execution_count": null,
   "id": "c4adbb04",
   "metadata": {},
   "outputs": [],
   "source": []
  }
 ],
 "metadata": {
  "kernelspec": {
   "display_name": ".venv",
   "language": "python",
   "name": "python3"
  },
  "language_info": {
   "codemirror_mode": {
    "name": "ipython",
    "version": 3
   },
   "file_extension": ".py",
   "mimetype": "text/x-python",
   "name": "python",
   "nbconvert_exporter": "python",
   "pygments_lexer": "ipython3",
   "version": "3.10.9"
  }
 },
 "nbformat": 4,
 "nbformat_minor": 5
}
